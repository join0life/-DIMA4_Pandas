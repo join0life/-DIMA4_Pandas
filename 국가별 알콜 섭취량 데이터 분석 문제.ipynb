{
 "cells": [
  {
   "cell_type": "markdown",
   "metadata": {},
   "source": [
    "# 국가별 알콜 섭취량 데이터 분석\n",
    "- 데이터 읽기\n",
    "- 데이터 정보 확인\n",
    "- 컬럼명 한글로 변경\n",
    "    - 원본 데이터 컬럼 정보\n",
    "    - country : 국가명\n",
    "    - beer_servings : 맥주 소비량\n",
    "    - spirit_servings : 증류주 소비량(독주, 알코올 함량 20% 이상의 설탕을 첨가하지 않은 증류주)\n",
    "    - wine_servings : 와인 소비량\n",
    "    - total_litres_of_pure_alcohol : 순수 알코올\n",
    "    - continent : 대륙\n",
    "- 결측치 확인\n",
    "    - `대륙`에 대한 정보가 부족한 것을 확인할 수 있다.\n",
    "    - drinks.csv 파일을 열어 원인을 확인한다.\n",
    "    - 대륙의 종류\n",
    "        - 아시아, 유럽, 아프리카, 북아메리카, 남아메리카, 오세아니아\n",
    "        - AS, EU, AF, NA, SA, OC\n",
    "- 결측치 해결\n",
    "    - 'NA'를 NaN(결측치)로 읽는 것을 방지\n",
    "    - pd.read_csv 함수의 na_filter=False 파라메터 : 결측치를 읽어올지 여부 지정\n",
    "    - 옵션 확인 : https://pandas.pydata.org/pandas-docs/stable/reference/api/pandas.read_csv.html \n",
    "- 통계값 구하기\n",
    "    - 전세계 맥주, 증류주, 와인, 알코올의 소비에 대한 '평균', '최대값', '최소값' 구하기\n",
    "- 주류 소비량 비교\n",
    "    - 와인 소비량이 맥주 + 증류주 소비량보다 큰 나라를 검색해,'대륙'을 기준으로 정렬\n",
    "    - 맥주 소비량이 230 초과이면서, 와인 소비량이 230 초과인 나라를 검색\n",
    "    - 전체 평균보다 많은 알코올을 섭취하는 대륙과 알코올 평균 소비량 검색\n",
    "    - 맥주를 가장 많이 소비하는 국가 확인\n",
    "    - 증류주를 가장 많이 소비하는 국가 확인\n",
    "    - 평균 맥주 소비량이 가장 많은 대륙 확인\n",
    "- 데이터 프레임 조작\n",
    "    - 국가별 주류 소비량 합계를 구해 새로운 컬럼 ('주류소비량') 추가\n",
    "    - 주류 소비량 대비 알코올 소비량 비율을 구해 새로운 컬럼 ('알코올비율') 추가\n",
    "        - 알코올비율 = '알코올' / '주류소비량'\n",
    "        - 알코올비율'이 NaN인 것에 대해 0으로 채우기\n",
    "    - 알코올비율이 높은 국가(술을 독하게 마시는 국가) TOP5의 ['국가', '주류소비량', '알코올비율'] 정보 조회\n",
    "    - DataFrame의 index를 ['대륙', '국가'] 로 지정하고, 대륙별, 국가명으로  정렬하여 df로 저장\n",
    "    - 전세계 평균 소비량과 한국의 소비량을 비교하는 DataFrame 만들기\n",
    "        <pre>\n",
    "               맥주\t    증류주\t     와인\t      알코올\t  주류소비량\t알코올비율\n",
    "     국가\t\t\t\t\t\t\n",
    "South Korea\t140.000000\t16.000000\t9.000000\t9.800000\t165.000000\t0.059394\n",
    "World Wide\t106.160622\t80.994819\t49.450777\t4.717098\t236.606218\t0.026115\n",
    "</pre>\n",
    "    - pivot_table을 사용하여 대륙별(index), '맥주'와 '와인'의 mean, median, max 값을 구한다."
   ]
  },
  {
   "cell_type": "markdown",
   "metadata": {
    "id": "SozIW1fDPRSN"
   },
   "source": [
    "## 데이터 읽기\n",
    "csv 파일 가져오기 \n",
    "- csv 파일은 컬럼 구분이 콤마(,) 로 이루어진 파일\n",
    "- df = pd.read_csv(파일이름) : csv 형식의 파일을 읽어 DataFrame 객체로 가져옴\n",
    "- DataFrame.to_csv(파일이름, index=True) : DataFrame을 csv 파일로 저장, index는 제외하고 저장하기 위해서는 index=False로 지정"
   ]
  },
  {
   "cell_type": "code",
   "execution_count": 1,
   "metadata": {},
   "outputs": [],
   "source": [
    "import numpy as np\n",
    "import pandas as pd"
   ]
  },
  {
   "cell_type": "code",
   "execution_count": 7,
   "metadata": {},
   "outputs": [
    {
     "name": "stdout",
     "output_type": "stream",
     "text": [
      "(193, 6)\n",
      "       country  beer_servings  spirit_servings  wine_servings  \\\n",
      "0  Afghanistan              0                0              0   \n",
      "1      Albania             89              132             54   \n",
      "2      Algeria             25                0             14   \n",
      "3      Andorra            245              138            312   \n",
      "4       Angola            217               57             45   \n",
      "\n",
      "   total_litres_of_pure_alcohol continent  \n",
      "0                           0.0        AS  \n",
      "1                           4.9        EU  \n",
      "2                           0.7        AF  \n",
      "3                          12.4        EU  \n",
      "4                           5.9        AF  \n"
     ]
    }
   ],
   "source": [
    "df = pd.read_csv('./drinks.csv')\n",
    "print(df.shape)\n",
    "print(df.head())"
   ]
  },
  {
   "cell_type": "markdown",
   "metadata": {},
   "source": [
    "## 컬럼명 한글로 변경"
   ]
  },
  {
   "cell_type": "code",
   "execution_count": 11,
   "metadata": {},
   "outputs": [
    {
     "name": "stdout",
     "output_type": "stream",
     "text": [
      "<class 'pandas.core.frame.DataFrame'>\n",
      "RangeIndex: 193 entries, 0 to 192\n",
      "Data columns (total 6 columns):\n",
      " #   Column  Non-Null Count  Dtype  \n",
      "---  ------  --------------  -----  \n",
      " 0   국가      193 non-null    object \n",
      " 1   맥주      193 non-null    int64  \n",
      " 2   증류주     193 non-null    int64  \n",
      " 3   와인      193 non-null    int64  \n",
      " 4   알코올     193 non-null    float64\n",
      " 5   대륙      170 non-null    object \n",
      "dtypes: float64(1), int64(3), object(2)\n",
      "memory usage: 9.2+ KB\n"
     ]
    }
   ],
   "source": [
    "### 결측치 확인\n",
    "df.info() "
   ]
  },
  {
   "cell_type": "code",
   "execution_count": 8,
   "metadata": {},
   "outputs": [],
   "source": [
    "### 일부 컬럼명 변경 \n",
    "df.rename({'country':'국가'}, axis = 1, inplace = True)"
   ]
  },
  {
   "cell_type": "code",
   "execution_count": 10,
   "metadata": {},
   "outputs": [],
   "source": [
    "### 전체 컬럼 다 바꾸기 -> df.columns\n",
    "df.columns = ['국가','맥주','증류주','와인','알코올','대륙']"
   ]
  },
  {
   "cell_type": "markdown",
   "metadata": {},
   "source": [
    "## 결측치 확인"
   ]
  },
  {
   "cell_type": "code",
   "execution_count": 41,
   "metadata": {
    "scrolled": true
   },
   "outputs": [
    {
     "name": "stdout",
     "output_type": "stream",
     "text": [
      "국가명                                            0\n",
      "와인 소비량                                         0\n",
      "증류주 소비량(독주, 알코올 함량 20% 이상의 설탕을 첨가하지 않은 증류주)    0\n",
      "와인 소비량                                         0\n",
      "순수 알코올                                         0\n",
      "대륙                                             0\n",
      "dtype: int64\n"
     ]
    }
   ],
   "source": [
    "print(df.isna().sum())"
   ]
  },
  {
   "cell_type": "markdown",
   "metadata": {
    "id": "ktAXpj5kTdWo"
   },
   "source": [
    "## 결측치 해결\n",
    "\n",
    "- 'NA'를 NaN(결측치)로 읽는 것을 방지\n",
    "    - pd.read_csv(파일이름, na_filter=False) : 결측치를 읽어올지 여부 지정\n",
    "    - 옵션 확인 : https://pandas.pydata.org/pandas-docs/stable/reference/api/pandas.read_csv.html \n",
    "\n",
    "\n",
    "- 결측치를 다른 값으로 채우기 함\n",
    "    - DataFrame.fillna(값) 또는 Series.fillna(값) : 결측값을 특정 값으로 채우기 \n",
    "    - 연속형 데이터 : 0으로 채우기, 평균값으로 채우기, 범주별 평균값 채우기 등\n",
    "    - 범주형 데이터 : 다른 범주로 만들어 채우기 "
   ]
  },
  {
   "cell_type": "code",
   "execution_count": 12,
   "metadata": {},
   "outputs": [
    {
     "name": "stdout",
     "output_type": "stream",
     "text": [
      "['AS' 'EU' 'AF' nan 'SA' 'OC']\n"
     ]
    }
   ],
   "source": [
    "# 해당 결측치를 가지고 있는 unique\n",
    "print(df['대륙'].unique())"
   ]
  },
  {
   "cell_type": "code",
   "execution_count": 14,
   "metadata": {},
   "outputs": [
    {
     "name": "stdout",
     "output_type": "stream",
     "text": [
      "5                 Antigua & Barbuda\n",
      "11                          Bahamas\n",
      "14                         Barbados\n",
      "17                           Belize\n",
      "32                           Canada\n",
      "41                       Costa Rica\n",
      "43                             Cuba\n",
      "50                         Dominica\n",
      "51               Dominican Republic\n",
      "54                      El Salvador\n",
      "68                          Grenada\n",
      "69                        Guatemala\n",
      "73                            Haiti\n",
      "74                         Honduras\n",
      "84                          Jamaica\n",
      "109                          Mexico\n",
      "122                       Nicaragua\n",
      "130                          Panama\n",
      "143               St. Kitts & Nevis\n",
      "144                       St. Lucia\n",
      "145    St. Vincent & the Grenadines\n",
      "174               Trinidad & Tobago\n",
      "184                             USA\n",
      "Name: 국가, dtype: object\n"
     ]
    }
   ],
   "source": [
    "# 결측치를 가지고 있는 국가명\n",
    "print(df[df['대륙'].isna()]['국가'])"
   ]
  },
  {
   "cell_type": "code",
   "execution_count": 17,
   "metadata": {},
   "outputs": [
    {
     "name": "stdout",
     "output_type": "stream",
     "text": [
      "country                         0\n",
      "beer_servings                   0\n",
      "spirit_servings                 0\n",
      "wine_servings                   0\n",
      "total_litres_of_pure_alcohol    0\n",
      "continent                       0\n",
      "dtype: int64\n"
     ]
    }
   ],
   "source": [
    "# 첫번째 방법\n",
    "temp = pd.read_csv('./drinks.csv', na_filter = False)\n",
    "print(temp.isna().sum())"
   ]
  },
  {
   "cell_type": "code",
   "execution_count": 18,
   "metadata": {},
   "outputs": [
    {
     "name": "stdout",
     "output_type": "stream",
     "text": [
      "              국가   맥주  증류주   와인   알코올  대륙\n",
      "0    Afghanistan    0    0    0   0.0  AS\n",
      "1        Albania   89  132   54   4.9  EU\n",
      "2        Algeria   25    0   14   0.7  AF\n",
      "3        Andorra  245  138  312  12.4  EU\n",
      "4         Angola  217   57   45   5.9  AF\n",
      "..           ...  ...  ...  ...   ...  ..\n",
      "188    Venezuela  333  100    3   7.7  SA\n",
      "189      Vietnam  111    2    1   2.0  AS\n",
      "190        Yemen    6    0    0   0.1  AS\n",
      "191       Zambia   32   19    4   2.5  AF\n",
      "192     Zimbabwe   64   18    4   4.7  AF\n",
      "\n",
      "[193 rows x 6 columns]\n",
      "국가     0\n",
      "맥주     0\n",
      "증류주    0\n",
      "와인     0\n",
      "알코올    0\n",
      "대륙     0\n",
      "dtype: int64\n"
     ]
    }
   ],
   "source": [
    "# 두번째 방법 (fillna : 모든 결측치 값을 괄호 안 데이터로 수정)\n",
    "df = df.fillna('NA')\n",
    "print(df)\n",
    "print(df.isna().sum())"
   ]
  },
  {
   "cell_type": "code",
   "execution_count": 19,
   "metadata": {},
   "outputs": [
    {
     "name": "stdout",
     "output_type": "stream",
     "text": [
      "대륙\n",
      "AF    53\n",
      "EU    45\n",
      "AS    44\n",
      "NA    23\n",
      "OC    16\n",
      "SA    12\n",
      "Name: count, dtype: int64\n"
     ]
    }
   ],
   "source": [
    "# 대륙별 레코드 개수\n",
    "print(df['대륙'].value_counts())"
   ]
  },
  {
   "cell_type": "markdown",
   "metadata": {
    "id": "mX3i4ZqhfEJl"
   },
   "source": [
    "## 통계값 구하기\n",
    "- DataFrame.describe() : 컬럼별 count, mean, std, min, max, Q1, Q2, Q3 등의 통계값 구하기"
   ]
  },
  {
   "cell_type": "code",
   "execution_count": 20,
   "metadata": {
    "scrolled": true
   },
   "outputs": [
    {
     "data": {
      "text/html": [
       "<div>\n",
       "<style scoped>\n",
       "    .dataframe tbody tr th:only-of-type {\n",
       "        vertical-align: middle;\n",
       "    }\n",
       "\n",
       "    .dataframe tbody tr th {\n",
       "        vertical-align: top;\n",
       "    }\n",
       "\n",
       "    .dataframe thead th {\n",
       "        text-align: right;\n",
       "    }\n",
       "</style>\n",
       "<table border=\"1\" class=\"dataframe\">\n",
       "  <thead>\n",
       "    <tr style=\"text-align: right;\">\n",
       "      <th></th>\n",
       "      <th>맥주</th>\n",
       "      <th>증류주</th>\n",
       "      <th>와인</th>\n",
       "      <th>알코올</th>\n",
       "    </tr>\n",
       "  </thead>\n",
       "  <tbody>\n",
       "    <tr>\n",
       "      <th>count</th>\n",
       "      <td>193.000000</td>\n",
       "      <td>193.000000</td>\n",
       "      <td>193.000000</td>\n",
       "      <td>193.000000</td>\n",
       "    </tr>\n",
       "    <tr>\n",
       "      <th>mean</th>\n",
       "      <td>106.160622</td>\n",
       "      <td>80.994819</td>\n",
       "      <td>49.450777</td>\n",
       "      <td>4.717098</td>\n",
       "    </tr>\n",
       "    <tr>\n",
       "      <th>std</th>\n",
       "      <td>101.143103</td>\n",
       "      <td>88.284312</td>\n",
       "      <td>79.697598</td>\n",
       "      <td>3.773298</td>\n",
       "    </tr>\n",
       "    <tr>\n",
       "      <th>min</th>\n",
       "      <td>0.000000</td>\n",
       "      <td>0.000000</td>\n",
       "      <td>0.000000</td>\n",
       "      <td>0.000000</td>\n",
       "    </tr>\n",
       "    <tr>\n",
       "      <th>25%</th>\n",
       "      <td>20.000000</td>\n",
       "      <td>4.000000</td>\n",
       "      <td>1.000000</td>\n",
       "      <td>1.300000</td>\n",
       "    </tr>\n",
       "    <tr>\n",
       "      <th>50%</th>\n",
       "      <td>76.000000</td>\n",
       "      <td>56.000000</td>\n",
       "      <td>8.000000</td>\n",
       "      <td>4.200000</td>\n",
       "    </tr>\n",
       "    <tr>\n",
       "      <th>75%</th>\n",
       "      <td>188.000000</td>\n",
       "      <td>128.000000</td>\n",
       "      <td>59.000000</td>\n",
       "      <td>7.200000</td>\n",
       "    </tr>\n",
       "    <tr>\n",
       "      <th>max</th>\n",
       "      <td>376.000000</td>\n",
       "      <td>438.000000</td>\n",
       "      <td>370.000000</td>\n",
       "      <td>14.400000</td>\n",
       "    </tr>\n",
       "  </tbody>\n",
       "</table>\n",
       "</div>"
      ],
      "text/plain": [
       "               맥주         증류주          와인         알코올\n",
       "count  193.000000  193.000000  193.000000  193.000000\n",
       "mean   106.160622   80.994819   49.450777    4.717098\n",
       "std    101.143103   88.284312   79.697598    3.773298\n",
       "min      0.000000    0.000000    0.000000    0.000000\n",
       "25%     20.000000    4.000000    1.000000    1.300000\n",
       "50%     76.000000   56.000000    8.000000    4.200000\n",
       "75%    188.000000  128.000000   59.000000    7.200000\n",
       "max    376.000000  438.000000  370.000000   14.400000"
      ]
     },
     "execution_count": 20,
     "metadata": {},
     "output_type": "execute_result"
    }
   ],
   "source": [
    "# describe() 함수는 기본적으로 연속형(수치형) 데이터에 대한 통계를 보여준다.\n",
    "df.describe()"
   ]
  },
  {
   "cell_type": "code",
   "execution_count": 21,
   "metadata": {
    "scrolled": true
   },
   "outputs": [
    {
     "name": "stdout",
     "output_type": "stream",
     "text": [
      "                 국가          맥주         증류주          와인         알코올   대륙\n",
      "count           193  193.000000  193.000000  193.000000  193.000000  193\n",
      "unique          193         NaN         NaN         NaN         NaN    6\n",
      "top     Afghanistan         NaN         NaN         NaN         NaN   AF\n",
      "freq              1         NaN         NaN         NaN         NaN   53\n",
      "mean            NaN  106.160622   80.994819   49.450777    4.717098  NaN\n",
      "std             NaN  101.143103   88.284312   79.697598    3.773298  NaN\n",
      "min             NaN    0.000000    0.000000    0.000000    0.000000  NaN\n",
      "25%             NaN   20.000000    4.000000    1.000000    1.300000  NaN\n",
      "50%             NaN   76.000000   56.000000    8.000000    4.200000  NaN\n",
      "75%             NaN  188.000000  128.000000   59.000000    7.200000  NaN\n",
      "max             NaN  376.000000  438.000000  370.000000   14.400000  NaN\n"
     ]
    }
   ],
   "source": [
    "# 데이터 타입에 상관 없이 모든 컬럼에 대한 통계값 확인\n",
    "# count : 결측치를 포함하지 않는 레코드 개수\n",
    "# unique : 종류별 하나\n",
    "# top : 가장 많은 빈도수를 갖는 데이터\n",
    "print(df.describe(include='all'))"
   ]
  },
  {
   "cell_type": "code",
   "execution_count": 23,
   "metadata": {},
   "outputs": [
    {
     "name": "stdout",
     "output_type": "stream",
     "text": [
      "              맥주         증류주          와인        알코올\n",
      "min     0.000000    0.000000    0.000000   0.000000\n",
      "max   376.000000  438.000000  370.000000  14.400000\n",
      "mean  106.160622   80.994819   49.450777   4.717098\n"
     ]
    }
   ],
   "source": [
    "# 보고 싶은 컬럼만 추출하는 방법도 있음\n",
    "df2 = df[['맥주','증류주','와인','알코올']]\n",
    "print(df2.agg(['min','max','mean'])) # 일부 컬럼의 일부 집계량만 추출 : agg"
   ]
  },
  {
   "cell_type": "markdown",
   "metadata": {
    "id": "Edwj1tnZhBTv"
   },
   "source": [
    "## 주류 소비량 비교\n",
    "\n"
   ]
  },
  {
   "cell_type": "markdown",
   "metadata": {},
   "source": [
    "### 와인 소비량이 맥주 + 증류주 소비량보다 큰 나라를 검색해,'대륙'을 기준으로 정렬 (Boolean indexing)"
   ]
  },
  {
   "cell_type": "code",
   "execution_count": 24,
   "metadata": {},
   "outputs": [
    {
     "name": "stdout",
     "output_type": "stream",
     "text": [
      "                      국가   맥주  증류주   와인   알코올  대륙\n",
      "55     Equatorial Guinea   92    0  233   5.8  AF\n",
      "148  Sao Tome & Principe   56   38  140   4.2  AF\n",
      "92                  Laos   62    0  123   6.2  AS\n",
      "171          Timor-Leste    1    1    4   0.1  AS\n",
      "61                France  127  151  370  11.8  EU\n",
      "83                 Italy   85   42  237   6.5  EU\n",
      "136             Portugal  194   67  339  11.0  EU\n",
      "6              Argentina  193   25  221   8.3  SA\n",
      "185              Uruguay  115   35  220   6.6  SA\n"
     ]
    }
   ],
   "source": [
    "result = df[df['와인']>(df['맥주']+df['증류주'])].sort_values('대륙')\n",
    "print(result)"
   ]
  },
  {
   "cell_type": "markdown",
   "metadata": {},
   "source": [
    "### 맥주 소비량이 230 초과이면서, 와인 소비량이 230 초과인 나라를 검색 (np.logical_and)"
   ]
  },
  {
   "cell_type": "code",
   "execution_count": 26,
   "metadata": {},
   "outputs": [
    {
     "name": "stdout",
     "output_type": "stream",
     "text": [
      "             국가   맥주  증류주   와인   알코올  대륙\n",
      "3       Andorra  245  138  312  12.4  EU\n",
      "99   Luxembourg  236  133  271  11.4  EU\n",
      "156    Slovenia  270   51  276  10.6  EU\n"
     ]
    }
   ],
   "source": [
    "result = df[np.logical_and(df['맥주']>230, df['와인']>230)]\n",
    "print(result)"
   ]
  },
  {
   "cell_type": "markdown",
   "metadata": {},
   "source": [
    "### 전체 평균보다 많은 알코올을 섭취하는 대륙과 알코올 평균 소비량 검색 (중요)"
   ]
  },
  {
   "cell_type": "code",
   "execution_count": 32,
   "metadata": {},
   "outputs": [
    {
     "name": "stdout",
     "output_type": "stream",
     "text": [
      "전체 알코올 평균 섭취량 4.717098445595855\n",
      "\n",
      "대륙별 알코올 평균 섭취량 대륙\n",
      "AF    3.007547\n",
      "AS    2.170455\n",
      "EU    8.617778\n",
      "NA    5.995652\n",
      "OC    3.381250\n",
      "SA    6.308333\n",
      "Name: 알코올, dtype: float64\n",
      "\n",
      "전체 평균보다 많은 알코올을 섭취하는 대륙\n",
      "대륙\n",
      "EU    8.617778\n",
      "NA    5.995652\n",
      "SA    6.308333\n",
      "Name: 알코올, dtype: float64\n"
     ]
    }
   ],
   "source": [
    "# 전체 알코올 평균 섭취량\n",
    "total_mean = df['알코올'].mean()\n",
    "print('전체 알코올 평균 섭취량',total_mean)\n",
    "print()\n",
    "# 대륙별 알코올 평균 섭취량\n",
    "conti_mean = df.groupby('대륙')['알코올'].mean()\n",
    "print('대륙별 알코올 평균 섭취량', conti_mean)\n",
    "print()\n",
    "# 전체 평균보다 많은 알코올을 섭취하는 대륙\n",
    "print('전체 평균보다 많은 알코올을 섭취하는 대륙')\n",
    "conti_mean_over = conti_mean[conti_mean > total_mean]\n",
    "print(conti_mean_over)"
   ]
  },
  {
   "cell_type": "markdown",
   "metadata": {},
   "source": [
    "### 맥주를 가장 많이 소비하는 국가 확인 (Boolean indexing)"
   ]
  },
  {
   "cell_type": "code",
   "execution_count": 33,
   "metadata": {},
   "outputs": [
    {
     "name": "stdout",
     "output_type": "stream",
     "text": [
      "          국가   맥주\n",
      "117  Namibia  376\n"
     ]
    }
   ],
   "source": [
    "result = df[df['맥주'].max() == df['맥주']][['국가','맥주']]\n",
    "print(result)"
   ]
  },
  {
   "cell_type": "markdown",
   "metadata": {},
   "source": [
    "### 증류주를 가장 많이 소비하는 국가 확인"
   ]
  },
  {
   "cell_type": "code",
   "execution_count": 34,
   "metadata": {},
   "outputs": [
    {
     "name": "stdout",
     "output_type": "stream",
     "text": [
      "         국가  증류주\n",
      "68  Grenada  438\n"
     ]
    }
   ],
   "source": [
    "result = df[df['증류주'].max() == df['증류주']][['국가','증류주']]\n",
    "print(result)"
   ]
  },
  {
   "cell_type": "code",
   "execution_count": 35,
   "metadata": {},
   "outputs": [
    {
     "name": "stdout",
     "output_type": "stream",
     "text": [
      "                 국가   맥주\n",
      "117         Namibia  376\n",
      "45   Czech Republic  361\n",
      "62            Gabon  347\n",
      "65          Germany  346\n",
      "98        Lithuania  343\n"
     ]
    }
   ],
   "source": [
    "# 맥주 소비량이 많은 상위 5개 국가\n",
    "result = df.sort_values('맥주', ascending = False).head(5)[['국가','맥주']]\n",
    "print(result)"
   ]
  },
  {
   "cell_type": "markdown",
   "metadata": {},
   "source": [
    "### 평균 맥주 소비량이 가장 많은 대륙 확인"
   ]
  },
  {
   "cell_type": "code",
   "execution_count": 38,
   "metadata": {},
   "outputs": [
    {
     "name": "stdout",
     "output_type": "stream",
     "text": [
      "대륙\n",
      "EU    193.777778\n",
      "Name: 맥주, dtype: float64\n"
     ]
    }
   ],
   "source": [
    "beer_avg_conti = df.groupby('대륙')['맥주'].mean().sort_values(ascending = False).head(1)\n",
    "print(beer_avg_conti)"
   ]
  },
  {
   "cell_type": "markdown",
   "metadata": {},
   "source": [
    "## 데이터 프레임 조작"
   ]
  },
  {
   "cell_type": "markdown",
   "metadata": {},
   "source": [
    "### 국가별 주류 소비량 합계를 구해 새로운 컬럼 ('주류소비량') 추가"
   ]
  },
  {
   "cell_type": "code",
   "execution_count": 41,
   "metadata": {},
   "outputs": [
    {
     "data": {
      "text/html": [
       "<div>\n",
       "<style scoped>\n",
       "    .dataframe tbody tr th:only-of-type {\n",
       "        vertical-align: middle;\n",
       "    }\n",
       "\n",
       "    .dataframe tbody tr th {\n",
       "        vertical-align: top;\n",
       "    }\n",
       "\n",
       "    .dataframe thead th {\n",
       "        text-align: right;\n",
       "    }\n",
       "</style>\n",
       "<table border=\"1\" class=\"dataframe\">\n",
       "  <thead>\n",
       "    <tr style=\"text-align: right;\">\n",
       "      <th></th>\n",
       "      <th>국가</th>\n",
       "      <th>맥주</th>\n",
       "      <th>증류주</th>\n",
       "      <th>와인</th>\n",
       "      <th>알코올</th>\n",
       "      <th>대륙</th>\n",
       "      <th>주류소비량</th>\n",
       "    </tr>\n",
       "  </thead>\n",
       "  <tbody>\n",
       "    <tr>\n",
       "      <th>0</th>\n",
       "      <td>Afghanistan</td>\n",
       "      <td>0</td>\n",
       "      <td>0</td>\n",
       "      <td>0</td>\n",
       "      <td>0.0</td>\n",
       "      <td>AS</td>\n",
       "      <td>0</td>\n",
       "    </tr>\n",
       "    <tr>\n",
       "      <th>1</th>\n",
       "      <td>Albania</td>\n",
       "      <td>89</td>\n",
       "      <td>132</td>\n",
       "      <td>54</td>\n",
       "      <td>4.9</td>\n",
       "      <td>EU</td>\n",
       "      <td>275</td>\n",
       "    </tr>\n",
       "    <tr>\n",
       "      <th>2</th>\n",
       "      <td>Algeria</td>\n",
       "      <td>25</td>\n",
       "      <td>0</td>\n",
       "      <td>14</td>\n",
       "      <td>0.7</td>\n",
       "      <td>AF</td>\n",
       "      <td>39</td>\n",
       "    </tr>\n",
       "    <tr>\n",
       "      <th>3</th>\n",
       "      <td>Andorra</td>\n",
       "      <td>245</td>\n",
       "      <td>138</td>\n",
       "      <td>312</td>\n",
       "      <td>12.4</td>\n",
       "      <td>EU</td>\n",
       "      <td>695</td>\n",
       "    </tr>\n",
       "    <tr>\n",
       "      <th>4</th>\n",
       "      <td>Angola</td>\n",
       "      <td>217</td>\n",
       "      <td>57</td>\n",
       "      <td>45</td>\n",
       "      <td>5.9</td>\n",
       "      <td>AF</td>\n",
       "      <td>319</td>\n",
       "    </tr>\n",
       "  </tbody>\n",
       "</table>\n",
       "</div>"
      ],
      "text/plain": [
       "            국가   맥주  증류주   와인   알코올  대륙  주류소비량\n",
       "0  Afghanistan    0    0    0   0.0  AS      0\n",
       "1      Albania   89  132   54   4.9  EU    275\n",
       "2      Algeria   25    0   14   0.7  AF     39\n",
       "3      Andorra  245  138  312  12.4  EU    695\n",
       "4       Angola  217   57   45   5.9  AF    319"
      ]
     },
     "execution_count": 41,
     "metadata": {},
     "output_type": "execute_result"
    }
   ],
   "source": [
    "# 첫번째 방법\n",
    "# df['주류소비량'] = df['맥주'] + df['증류주'] + df['와인']\n",
    "# 두번째 방법\n",
    "# df['주류소비량'] = df[['맥주','증류주','와인']].sum(axis =1)\n",
    "# 세번째 방법\n",
    "df['주류소비량'] = df[df.columns[1:4]].sum(axis=1)\n",
    "df.head()"
   ]
  },
  {
   "cell_type": "markdown",
   "metadata": {},
   "source": [
    "### 주류 소비량 대비 알코올 소비량 비율을 구해 새로운 컬럼 ('알코올비율') 추가\n",
    "- 알코올비율 = '알코올' / '주류소비량'\n",
    "- 알코올비율'이 NaN인 것에 대해 0으로 채우기"
   ]
  },
  {
   "cell_type": "code",
   "execution_count": 43,
   "metadata": {
    "scrolled": true
   },
   "outputs": [
    {
     "name": "stdout",
     "output_type": "stream",
     "text": [
      "            국가  맥주  증류주  와인  알코올  대륙  주류소비량     알코올비율\n",
      "0  Afghanistan   0    0   0  0.0  AS      0       NaN\n",
      "1      Albania  89  132  54  4.9  EU    275  0.017818\n",
      "2      Algeria  25    0  14  0.7  AF     39  0.017949\n"
     ]
    }
   ],
   "source": [
    "df['알코올비율'] = df['알코올'] / df['주류소비량']\n",
    "print(df.head(3))"
   ]
  },
  {
   "cell_type": "code",
   "execution_count": 44,
   "metadata": {
    "scrolled": true
   },
   "outputs": [
    {
     "name": "stdout",
     "output_type": "stream",
     "text": [
      "            국가  맥주  증류주  와인  알코올  대륙  주류소비량     알코올비율\n",
      "0  Afghanistan   0    0   0  0.0  AS      0  0.000000\n",
      "1      Albania  89  132  54  4.9  EU    275  0.017818\n",
      "2      Algeria  25    0  14  0.7  AF     39  0.017949\n"
     ]
    }
   ],
   "source": [
    "# 주류소비량 결측치 채우기\n",
    "df['알코올비율'] = df['알코올비율'].fillna(0)\n",
    "print(df.head(3))"
   ]
  },
  {
   "cell_type": "markdown",
   "metadata": {
    "id": "_ZWAnH92jLHe"
   },
   "source": [
    "## 맥주 소비량"
   ]
  },
  {
   "cell_type": "markdown",
   "metadata": {},
   "source": [
    "### 알코올비율이 높은 국가(술을 독하게 마시는 국가) TOP5의 ['국가', '주류소비량', '알코올비율'] 정보 조회"
   ]
  },
  {
   "cell_type": "code",
   "execution_count": 46,
   "metadata": {},
   "outputs": [
    {
     "name": "stdout",
     "output_type": "stream",
     "text": [
      "               국가  주류소비량     알코올비율\n",
      "63         Gambia      9  0.266667\n",
      "153  Sierra Leone     30  0.223333\n",
      "124       Nigeria     49  0.185714\n",
      "179        Uganda     54  0.153704\n",
      "142        Rwanda     45  0.151111\n",
      "             국가  주류소비량     알코올비율\n",
      "1        Gambia      9  0.266667\n",
      "2  Sierra Leone     30  0.223333\n",
      "3       Nigeria     49  0.185714\n",
      "4        Uganda     54  0.153704\n",
      "5        Rwanda     45  0.151111\n"
     ]
    }
   ],
   "source": [
    "result = df[['국가','주류소비량','알코올비율']].sort_values('알코올비율', ascending = False).head(5)\n",
    "print(result)\n",
    "# 인덱스 값을 순위 형태로 바꿈\n",
    "result.index = np.arange(1,6)\n",
    "print(result)"
   ]
  },
  {
   "cell_type": "markdown",
   "metadata": {},
   "source": [
    "### DataFrame의 index를 ['대륙', '국가'] 로 지정하고, 대륙별, 국가명으로  정렬하여 df로 저장"
   ]
  },
  {
   "cell_type": "code",
   "execution_count": 48,
   "metadata": {},
   "outputs": [
    {
     "name": "stdout",
     "output_type": "stream",
     "text": [
      "                  맥주  증류주  와인  알코올  주류소비량     알코올비율\n",
      "대륙 국가                                              \n",
      "AF Algeria        25    0  14  0.7     39  0.017949\n",
      "   Angola        217   57  45  5.9    319  0.018495\n",
      "   Benin          34    4  13  1.1     51  0.021569\n",
      "   Botswana      173   35  35  5.4    243  0.022222\n",
      "   Burkina Faso   25    7   7  4.3     39  0.110256\n"
     ]
    }
   ],
   "source": [
    "# sort_index : 인덱스 정렬\n",
    "df2 = df.set_index(['대륙','국가']).sort_index()\n",
    "print(df2.head())"
   ]
  },
  {
   "cell_type": "markdown",
   "metadata": {},
   "source": [
    "### 전세계 평균 소비량과 한국의 소비량을 비교하는 DataFrame 만들기"
   ]
  },
  {
   "cell_type": "code",
   "execution_count": 49,
   "metadata": {
    "scrolled": true
   },
   "outputs": [
    {
     "name": "stdout",
     "output_type": "stream",
     "text": [
      "              국가   맥주  증류주  와인  알코올  대륙  주류소비량     알코올비율\n",
      "46   North Korea    0    0   0  0.0  AS      0  0.000000\n",
      "138  South Korea  140   16   9  9.8  AS    165  0.059394\n"
     ]
    }
   ],
   "source": [
    "# case = False : 대문자 소문자 상관 x \n",
    "result = df[df['국가'].str.contains('korea', case = False)]\n",
    "print(result)"
   ]
  },
  {
   "cell_type": "code",
   "execution_count": 50,
   "metadata": {},
   "outputs": [
    {
     "name": "stdout",
     "output_type": "stream",
     "text": [
      "              국가   맥주  증류주  와인  알코올  대륙  주류소비량     알코올비율\n",
      "138  South Korea  140   16   9  9.8  AS    165  0.059394\n"
     ]
    }
   ],
   "source": [
    "korea = df[df['국가']=='South Korea']\n",
    "print(korea)"
   ]
  },
  {
   "cell_type": "code",
   "execution_count": null,
   "metadata": {},
   "outputs": [],
   "source": [
    "# 대륙 컬럼 삭제\n",
    "korea.drop('대륙', axis = 1, inplace = True)"
   ]
  },
  {
   "cell_type": "code",
   "execution_count": 54,
   "metadata": {},
   "outputs": [
    {
     "name": "stdout",
     "output_type": "stream",
     "text": [
      "              국가   맥주  증류주  와인  알코올  주류소비량     알코올비율\n",
      "138  South Korea  140   16   9  9.8    165  0.059394\n"
     ]
    }
   ],
   "source": [
    "print(korea)"
   ]
  },
  {
   "cell_type": "code",
   "execution_count": 59,
   "metadata": {},
   "outputs": [
    {
     "data": {
      "text/plain": [
       "Index(['맥주', '증류주', '와인', '알코올', '대륙', '주류소비량'], dtype='object')"
      ]
     },
     "execution_count": 59,
     "metadata": {},
     "output_type": "execute_result"
    }
   ],
   "source": [
    "df.columns[1:7]"
   ]
  },
  {
   "cell_type": "code",
   "execution_count": 71,
   "metadata": {},
   "outputs": [
    {
     "name": "stdout",
     "output_type": "stream",
     "text": [
      "           맥주        증류주         와인       알코올       주류소비량     알코올비율\n",
      "0  106.160622  80.994819  49.450777  4.717098  236.606218  0.026115\n"
     ]
    }
   ],
   "source": [
    "# korea 데이터프레임을 만들었기 때문에 world_wide 데이터프레임도 만들어서 합치기\n",
    "world_wide = pd.DataFrame(df[df.columns[[1,2,3,4,6,7]]].mean())\n",
    "world_wide = world_wide.T\n",
    "print(world_wide)"
   ]
  },
  {
   "cell_type": "code",
   "execution_count": 72,
   "metadata": {},
   "outputs": [
    {
     "name": "stdout",
     "output_type": "stream",
     "text": [
      "           국가          맥주        증류주         와인       알코올       주류소비량  \\\n",
      "0  World Wide  106.160622  80.994819  49.450777  4.717098  236.606218   \n",
      "\n",
      "      알코올비율  \n",
      "0  0.026115  \n"
     ]
    }
   ],
   "source": [
    "# world_wide 데이터프레임에 '국가' 컬럼이 없으므로 insert (특정 위치에 컬럼 추가)로 컬럼 추가\n",
    "world_wide.insert(0, '국가', 'World Wide')\n",
    "print(world_wide)"
   ]
  },
  {
   "cell_type": "code",
   "execution_count": 73,
   "metadata": {
    "scrolled": true
   },
   "outputs": [
    {
     "name": "stdout",
     "output_type": "stream",
     "text": [
      "              국가          맥주        증류주         와인       알코올       주류소비량  \\\n",
      "138  South Korea  140.000000  16.000000   9.000000  9.800000  165.000000   \n",
      "0     World Wide  106.160622  80.994819  49.450777  4.717098  236.606218   \n",
      "\n",
      "        알코올비율  \n",
      "138  0.059394  \n",
      "0    0.026115  \n"
     ]
    }
   ],
   "source": [
    "# concat으로 데이터프레임 두개 연결\n",
    "compare = pd.concat([korea, world_wide])\n",
    "print(compare)"
   ]
  },
  {
   "cell_type": "code",
   "execution_count": 74,
   "metadata": {},
   "outputs": [
    {
     "name": "stdout",
     "output_type": "stream",
     "text": [
      "                     맥주        증류주         와인       알코올       주류소비량     알코올비율\n",
      "국가                                                                           \n",
      "South Korea  140.000000  16.000000   9.000000  9.800000  165.000000  0.059394\n",
      "World Wide   106.160622  80.994819  49.450777  4.717098  236.606218  0.026115\n"
     ]
    }
   ],
   "source": [
    "# '국가' 컬럼을 index로 만들기\n",
    "compare = compare.set_index('국가') \n",
    "print(compare)"
   ]
  },
  {
   "cell_type": "markdown",
   "metadata": {},
   "source": [
    "### pivot_table을 사용하여 대륙별(index), '맥주'와 '와인'의 mean, median, max 값을 구한다."
   ]
  },
  {
   "cell_type": "code",
   "execution_count": 75,
   "metadata": {},
   "outputs": [
    {
     "name": "stdout",
     "output_type": "stream",
     "text": [
      "          mean             median         max     \n",
      "            맥주          와인     맥주     와인   맥주   와인\n",
      "대륙                                                \n",
      "AF   61.471698   16.264151   32.0    2.0  376  233\n",
      "AS   37.045455    9.068182   17.5    1.0  247  123\n",
      "EU  193.777778  142.222222  219.0  128.0  361  370\n",
      "NA  145.434783   24.521739  143.0   11.0  285  100\n",
      "OC   89.687500   35.625000   52.5    8.5  306  212\n",
      "SA  175.083333   62.416667  162.5   12.0  333  221\n"
     ]
    }
   ],
   "source": [
    "result = pd.pivot_table(data= df, index='대륙', values = ['맥주','와인'], aggfunc = ['mean','median','max'])\n",
    "print(result)"
   ]
  }
 ],
 "metadata": {
  "colab": {
   "collapsed_sections": [],
   "name": "3_drink.ipynb",
   "provenance": [
    {
     "file_id": "18U4JQ20tFk5wWa6dHCVQCbHMQL4Y3NxR",
     "timestamp": 1634889253902
    },
    {
     "file_id": "1_LEf1wc3OeN9tp-KZc4jlhcbHJDU7J6_",
     "timestamp": 1632807665307
    }
   ]
  },
  "kernelspec": {
   "display_name": "Python 3 (ipykernel)",
   "language": "python",
   "name": "python3"
  },
  "language_info": {
   "codemirror_mode": {
    "name": "ipython",
    "version": 3
   },
   "file_extension": ".py",
   "mimetype": "text/x-python",
   "name": "python",
   "nbconvert_exporter": "python",
   "pygments_lexer": "ipython3",
   "version": "3.11.7"
  },
  "toc": {
   "base_numbering": 1,
   "nav_menu": {},
   "number_sections": true,
   "sideBar": true,
   "skip_h1_title": false,
   "title_cell": "Table of Contents",
   "title_sidebar": "Contents",
   "toc_cell": false,
   "toc_position": {
    "height": "calc(100% - 180px)",
    "left": "10px",
    "top": "150px",
    "width": "304.469px"
   },
   "toc_section_display": true,
   "toc_window_display": false
  }
 },
 "nbformat": 4,
 "nbformat_minor": 4
}
