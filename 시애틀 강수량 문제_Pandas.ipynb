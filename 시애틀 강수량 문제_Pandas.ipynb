{
 "cells": [
  {
   "cell_type": "markdown",
   "id": "9e6f49e6",
   "metadata": {},
   "source": [
    "# 시애틀 강수량 데이터 분석\n",
    "- 데이터 로딩\n",
    "- 필요하지 않은 컬럼 삭제 (STATION, STATION_NAME) \n",
    "- DATE를 날짜 형식으로 수정 : 기존 DATE 컬럼의 타입 int -> str로 변경 후 날짜 형식으로 변경 \n",
    "- 날짜 컬럼을 인덱스로 변경\n",
    "- 강수량('PRCP')이 많은 날 상위 10일 출력 \n",
    "- 1월 강수량만 출력\n",
    "- 1년동안 강수량이 40미만으로 내린 날이 몇일인가?\n",
    "- 1월에 내린 강수량의 합과 평균 강수량\n",
    "- 2월에 내린 강수량의 합과 평균 강수량"
   ]
  },
  {
   "cell_type": "code",
   "execution_count": 31,
   "id": "526e9b84-6ad8-4864-8e70-812fcc30e751",
   "metadata": {},
   "outputs": [],
   "source": [
    "import numpy as np\n",
    "import pandas as pd"
   ]
  },
  {
   "cell_type": "code",
   "execution_count": 32,
   "id": "7c278914-1844-4f5d-900a-a1201d2ead88",
   "metadata": {},
   "outputs": [
    {
     "name": "stdout",
     "output_type": "stream",
     "text": [
      "(365, 17)\n",
      "             STATION                                STATION_NAME      DATE  \\\n",
      "0  GHCND:USW00024233  SEATTLE TACOMA INTERNATIONAL AIRPORT WA US  20140101   \n",
      "1  GHCND:USW00024233  SEATTLE TACOMA INTERNATIONAL AIRPORT WA US  20140102   \n",
      "2  GHCND:USW00024233  SEATTLE TACOMA INTERNATIONAL AIRPORT WA US  20140103   \n",
      "3  GHCND:USW00024233  SEATTLE TACOMA INTERNATIONAL AIRPORT WA US  20140104   \n",
      "4  GHCND:USW00024233  SEATTLE TACOMA INTERNATIONAL AIRPORT WA US  20140105   \n",
      "\n",
      "   PRCP  SNWD  SNOW  TMAX  TMIN  AWND  WDF2  WDF5  WSF2  WSF5  WT01  WT05  \\\n",
      "0     0     0     0    72    33    12   340   310    36    40 -9999 -9999   \n",
      "1    41     0     0   106    61    32   190   200    94   116 -9999 -9999   \n",
      "2    15     0     0    89    28    26    30    50    63    72     1 -9999   \n",
      "3     0     0     0    78     6    27    40    40    45    58     1 -9999   \n",
      "4     0     0     0    83    -5    37    10    10    67    76 -9999 -9999   \n",
      "\n",
      "   WT02  WT03  \n",
      "0 -9999 -9999  \n",
      "1 -9999 -9999  \n",
      "2 -9999 -9999  \n",
      "3 -9999 -9999  \n",
      "4 -9999 -9999  \n",
      "<class 'pandas.core.frame.DataFrame'>\n",
      "RangeIndex: 365 entries, 0 to 364\n",
      "Data columns (total 17 columns):\n",
      " #   Column        Non-Null Count  Dtype \n",
      "---  ------        --------------  ----- \n",
      " 0   STATION       365 non-null    object\n",
      " 1   STATION_NAME  365 non-null    object\n",
      " 2   DATE          365 non-null    int64 \n",
      " 3   PRCP          365 non-null    int64 \n",
      " 4   SNWD          365 non-null    int64 \n",
      " 5   SNOW          365 non-null    int64 \n",
      " 6   TMAX          365 non-null    int64 \n",
      " 7   TMIN          365 non-null    int64 \n",
      " 8   AWND          365 non-null    int64 \n",
      " 9   WDF2          365 non-null    int64 \n",
      " 10  WDF5          365 non-null    int64 \n",
      " 11  WSF2          365 non-null    int64 \n",
      " 12  WSF5          365 non-null    int64 \n",
      " 13  WT01          365 non-null    int64 \n",
      " 14  WT05          365 non-null    int64 \n",
      " 15  WT02          365 non-null    int64 \n",
      " 16  WT03          365 non-null    int64 \n",
      "dtypes: int64(15), object(2)\n",
      "memory usage: 48.6+ KB\n",
      "None\n"
     ]
    }
   ],
   "source": [
    "#데이터 로딩\n",
    "df = pd.read_csv('Seattle2014.csv')\n",
    "print(df.shape)\n",
    "print(df.head())\n",
    "print(df.info())"
   ]
  },
  {
   "cell_type": "code",
   "execution_count": 33,
   "id": "00f3db11-808a-46b0-90aa-10fd771b1fa3",
   "metadata": {
    "scrolled": true
   },
   "outputs": [
    {
     "name": "stdout",
     "output_type": "stream",
     "text": [
      "       DATE  PRCP  SNWD  SNOW  TMAX  TMIN  AWND  WDF2  WDF5  WSF2  WSF5  WT01  \\\n",
      "0  20140101     0     0     0    72    33    12   340   310    36    40 -9999   \n",
      "1  20140102    41     0     0   106    61    32   190   200    94   116 -9999   \n",
      "2  20140103    15     0     0    89    28    26    30    50    63    72     1   \n",
      "3  20140104     0     0     0    78     6    27    40    40    45    58     1   \n",
      "4  20140105     0     0     0    83    -5    37    10    10    67    76 -9999   \n",
      "\n",
      "   WT05  WT02  WT03  \n",
      "0 -9999 -9999 -9999  \n",
      "1 -9999 -9999 -9999  \n",
      "2 -9999 -9999 -9999  \n",
      "3 -9999 -9999 -9999  \n",
      "4 -9999 -9999 -9999  \n"
     ]
    }
   ],
   "source": [
    "# 필요하지 않은 컬럼 삭제 (STATION, STATION_NAME)\n",
    "df.drop(['STATION','STATION_NAME'], axis = 1, inplace = True)\n",
    "print(df.head())"
   ]
  },
  {
   "cell_type": "code",
   "execution_count": 34,
   "id": "bf7c78d9-8856-4ba6-97ff-2b0f0b367c9e",
   "metadata": {},
   "outputs": [
    {
     "name": "stdout",
     "output_type": "stream",
     "text": [
      "        DATE  PRCP  SNWD  SNOW  TMAX  TMIN  AWND  WDF2  WDF5  WSF2  WSF5  \\\n",
      "0 2014-01-01     0     0     0    72    33    12   340   310    36    40   \n",
      "1 2014-01-02    41     0     0   106    61    32   190   200    94   116   \n",
      "2 2014-01-03    15     0     0    89    28    26    30    50    63    72   \n",
      "3 2014-01-04     0     0     0    78     6    27    40    40    45    58   \n",
      "4 2014-01-05     0     0     0    83    -5    37    10    10    67    76   \n",
      "\n",
      "   WT01  WT05  WT02  WT03  \n",
      "0 -9999 -9999 -9999 -9999  \n",
      "1 -9999 -9999 -9999 -9999  \n",
      "2     1 -9999 -9999 -9999  \n",
      "3     1 -9999 -9999 -9999  \n",
      "4 -9999 -9999 -9999 -9999  \n"
     ]
    }
   ],
   "source": [
    "# DATE를 날짜 형식으로 수정 : 기존 DATE 컬럼의 타입 int -> str로 변경 후 날짜 형식으로 변경 \n",
    "# df2 = df.copy()\n",
    "df['DATE'] = pd.to_datetime(df['DATE'].astype('str'))\n",
    "df['DATE'] = pd.to_datetime(df['DATE'], format = '%Y%m%d')\n",
    "print(df.head())\n"
   ]
  },
  {
   "cell_type": "code",
   "execution_count": 35,
   "id": "acb89f44-3e1f-4fc4-8bc1-d58622112212",
   "metadata": {},
   "outputs": [
    {
     "name": "stdout",
     "output_type": "stream",
     "text": [
      "            PRCP  SNWD  SNOW  TMAX  TMIN  AWND  WDF2  WDF5  WSF2  WSF5  WT01  \\\n",
      "DATE                                                                           \n",
      "2014-01-01     0     0     0    72    33    12   340   310    36    40 -9999   \n",
      "2014-01-02    41     0     0   106    61    32   190   200    94   116 -9999   \n",
      "2014-01-03    15     0     0    89    28    26    30    50    63    72     1   \n",
      "2014-01-04     0     0     0    78     6    27    40    40    45    58     1   \n",
      "2014-01-05     0     0     0    83    -5    37    10    10    67    76 -9999   \n",
      "...          ...   ...   ...   ...   ...   ...   ...   ...   ...   ...   ...   \n",
      "2014-12-27    33     0     0    94    44    49   210   210   112   161     1   \n",
      "2014-12-28    41     0     0    67    28    18    50    30    58    72     1   \n",
      "2014-12-29     0     0     0    61     6    43   350   350    76   103     1   \n",
      "2014-12-30     0     0     0    33   -21    36    90    70    63    76 -9999   \n",
      "2014-12-31     0     0     0    33   -27    30    30 -9999    58 -9999 -9999   \n",
      "\n",
      "            WT05  WT02  WT03  \n",
      "DATE                          \n",
      "2014-01-01 -9999 -9999 -9999  \n",
      "2014-01-02 -9999 -9999 -9999  \n",
      "2014-01-03 -9999 -9999 -9999  \n",
      "2014-01-04 -9999 -9999 -9999  \n",
      "2014-01-05 -9999 -9999 -9999  \n",
      "...          ...   ...   ...  \n",
      "2014-12-27 -9999 -9999 -9999  \n",
      "2014-12-28 -9999 -9999 -9999  \n",
      "2014-12-29 -9999 -9999 -9999  \n",
      "2014-12-30 -9999 -9999 -9999  \n",
      "2014-12-31 -9999 -9999 -9999  \n",
      "\n",
      "[365 rows x 14 columns]\n"
     ]
    }
   ],
   "source": [
    "# 날짜 컬럼을 인덱스로 변경\n",
    "df.set_index('DATE', inplace=True)\n",
    "print(df)"
   ]
  },
  {
   "cell_type": "code",
   "execution_count": 36,
   "id": "45cf5e27-489b-40bc-ad59-747f80e35a50",
   "metadata": {},
   "outputs": [
    {
     "name": "stdout",
     "output_type": "stream",
     "text": [
      "            PRCP\n",
      "DATE            \n",
      "2014-03-05   467\n",
      "2014-11-28   343\n",
      "2014-05-03   333\n",
      "2014-03-08   323\n",
      "2014-10-22   320\n",
      "2014-03-16   277\n",
      "2014-02-16   264\n",
      "2014-10-30   254\n",
      "2014-03-28   221\n",
      "2014-08-13   216\n"
     ]
    }
   ],
   "source": [
    "# 강수량('PRCP')이 많은 날 상위 10일 출력 \n",
    "print(df.sort_values('PRCP', ascending=False)[['PRCP']].head(10))"
   ]
  },
  {
   "cell_type": "code",
   "execution_count": 37,
   "id": "0491e051-3090-4a41-899f-d9d2715c5eda",
   "metadata": {
    "scrolled": true
   },
   "outputs": [
    {
     "name": "stdout",
     "output_type": "stream",
     "text": [
      "Index([ 1,  1,  1,  1,  1,  1,  1,  1,  1,  1,\n",
      "       ...\n",
      "       12, 12, 12, 12, 12, 12, 12, 12, 12, 12],\n",
      "      dtype='int32', name='DATE', length=365)\n",
      "DATE\n",
      "2014-01-01      0\n",
      "2014-01-02     41\n",
      "2014-01-03     15\n",
      "2014-01-04      0\n",
      "2014-01-05      0\n",
      "2014-01-06      3\n",
      "2014-01-07    122\n",
      "2014-01-08     97\n",
      "2014-01-09     58\n",
      "2014-01-10     43\n",
      "2014-01-11    213\n",
      "2014-01-12     15\n",
      "2014-01-13      0\n",
      "2014-01-14      0\n",
      "2014-01-15      0\n",
      "2014-01-16      0\n",
      "2014-01-17      0\n",
      "2014-01-18      0\n",
      "2014-01-19      0\n",
      "2014-01-20      0\n",
      "2014-01-21      0\n",
      "2014-01-22      5\n",
      "2014-01-23      0\n",
      "2014-01-24      0\n",
      "2014-01-25      0\n",
      "2014-01-26      0\n",
      "2014-01-27      0\n",
      "2014-01-28     89\n",
      "2014-01-29    216\n",
      "2014-01-30      0\n",
      "2014-01-31     23\n",
      "Name: PRCP, dtype: int64\n"
     ]
    }
   ],
   "source": [
    "# 1월 강수량만 출력\n",
    "print(df.index.month)\n",
    "print(df['PRCP'][df.index.month ==1 ])"
   ]
  },
  {
   "cell_type": "code",
   "execution_count": 38,
   "id": "538d3c07-16db-4dc4-81f9-db42b4814968",
   "metadata": {},
   "outputs": [
    {
     "name": "stdout",
     "output_type": "stream",
     "text": [
      "277\n"
     ]
    }
   ],
   "source": [
    "# 1년동안 강수량이 40미만으로 내린 날이 몇일인가?\n",
    "print(np.sum(df['PRCP']<40))"
   ]
  },
  {
   "cell_type": "code",
   "execution_count": 40,
   "id": "acdf0fd8-af4b-4a92-bd00-0337234c340e",
   "metadata": {},
   "outputs": [
    {
     "name": "stdout",
     "output_type": "stream",
     "text": [
      "277\n"
     ]
    }
   ],
   "source": [
    "print(len(df[df['PRCP']<40]))"
   ]
  },
  {
   "cell_type": "code",
   "execution_count": 46,
   "id": "6cc589ea-a070-4d31-8ca7-8e2087628680",
   "metadata": {},
   "outputs": [
    {
     "name": "stdout",
     "output_type": "stream",
     "text": [
      "sum     940.00\n",
      "mean     30.32\n",
      "Name: PRCP, dtype: float64\n"
     ]
    }
   ],
   "source": [
    "# 1월에 내린 강수량의 합과 평균 강수량\n",
    "print(df['PRCP'][df.index.month == 1].agg(['sum','mean']).apply(lambda x:np.round(x,2)))"
   ]
  }
 ],
 "metadata": {
  "kernelspec": {
   "display_name": "Python 3 (ipykernel)",
   "language": "python",
   "name": "python3"
  },
  "language_info": {
   "codemirror_mode": {
    "name": "ipython",
    "version": 3
   },
   "file_extension": ".py",
   "mimetype": "text/x-python",
   "name": "python",
   "nbconvert_exporter": "python",
   "pygments_lexer": "ipython3",
   "version": "3.11.7"
  },
  "toc": {
   "base_numbering": 1,
   "nav_menu": {},
   "number_sections": true,
   "sideBar": true,
   "skip_h1_title": false,
   "title_cell": "Table of Contents",
   "title_sidebar": "Contents",
   "toc_cell": false,
   "toc_position": {
    "height": "calc(100% - 180px)",
    "left": "10px",
    "top": "150px",
    "width": "253.475px"
   },
   "toc_section_display": true,
   "toc_window_display": false
  }
 },
 "nbformat": 4,
 "nbformat_minor": 5
}
