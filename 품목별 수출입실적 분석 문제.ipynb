{
 "cells": [
  {
   "cell_type": "markdown",
   "id": "7794ffb3",
   "metadata": {},
   "source": [
    "# 품목별 수출입실적 분석\n",
    "- 데이터 읽기 (0~3행 skip)\n",
    "- 상위 5개 데이터 확인하기\n",
    "- 불필요한 행 삭제 및 인덱스 초기화 !!reset_index!!\n",
    "  - 0, 485 행 : '총계', '설명' 에 해당하는 row 삭제\n",
    "  - 인덱스를 0부터 초기화 \n",
    "- 컬럼 데이터 타입 변경\n",
    "  - 수출중량~무역수지 : Object 타입 ==> float으로 데이터 타입 변경\n",
    "- 연도별 무역수지 평균 및 합계\n",
    "- 연도별 무역수지가 가장 적은 품목은?"
   ]
  },
  {
   "cell_type": "code",
   "execution_count": 1,
   "id": "e7b3ef73-915a-43a5-8ee7-49b4d909c319",
   "metadata": {},
   "outputs": [],
   "source": [
    "import numpy as np\n",
    "import pandas as pd"
   ]
  },
  {
   "cell_type": "code",
   "execution_count": 2,
   "id": "6e64df5a-b89b-48cb-bbfe-513b14acd689",
   "metadata": {},
   "outputs": [
    {
     "name": "stdout",
     "output_type": "stream",
     "text": [
      "(486, 8)\n"
     ]
    }
   ],
   "source": [
    "# 데이터 읽기\n",
    "df = pd.read_excel('./품목별  수출입실적_20230232.xls', skiprows = [0,1,2,3])\n",
    "print(df.shape)"
   ]
  },
  {
   "cell_type": "code",
   "execution_count": 3,
   "id": "a6318aff-de59-47c7-8c31-9809bdfa120b",
   "metadata": {},
   "outputs": [
    {
     "name": "stdout",
     "output_type": "stream",
     "text": [
      "     기간                                        품목명  품목코드           수출중량  \\\n",
      "0    총계                                        NaN   NaN  967,575,781.9   \n",
      "1  2018                                   살아 있는 동물   1.0           52.8   \n",
      "2  2018                               육과 식용 설육(屑肉)   2.0       32,982.9   \n",
      "3  2018             어류ㆍ갑각류ㆍ연체동물과 그 밖의 수생(水生) 무척추동물   3.0      443,775.5   \n",
      "4  2018  낙농품, 새의 알, 천연꿀, 다른 류로 분류되지 않은 식용인 동물성 생산품   4.0       25,791.3   \n",
      "\n",
      "              수입중량           수출금액           수입금액         무역수지  \n",
      "0  2,886,113,032.4  2,985,863,296  2,852,488,115  133,375,181  \n",
      "1          1,362.8          3,188         73,643      -70,455  \n",
      "2      1,220,751.0         38,226      5,123,574   -5,085,348  \n",
      "3      1,344,280.3      1,481,657      5,045,539   -3,563,882  \n",
      "4        275,193.1         54,342        932,004     -877,662  \n"
     ]
    }
   ],
   "source": [
    "# 상위 5개 데이터 확인하기\n",
    "print(df.head())"
   ]
  },
  {
   "cell_type": "code",
   "execution_count": 4,
   "id": "35086791-913a-4d2f-bbe5-608af03ff03c",
   "metadata": {},
   "outputs": [
    {
     "name": "stdout",
     "output_type": "stream",
     "text": [
      "       기간                                                품목명  품목코드       수출중량  \\\n",
      "0    2018                                           살아 있는 동물   1.0       52.8   \n",
      "1    2018                                       육과 식용 설육(屑肉)   2.0   32,982.9   \n",
      "2    2018                     어류ㆍ갑각류ㆍ연체동물과 그 밖의 수생(水生) 무척추동물   3.0  443,775.5   \n",
      "3    2018          낙농품, 새의 알, 천연꿀, 다른 류로 분류되지 않은 식용인 동물성 생산품   4.0   25,791.3   \n",
      "4    2018                              다른 류로 분류되지 않은 동물성 생산품   5.0   33,459.1   \n",
      "..    ...                                                ...   ...        ...   \n",
      "479  2022                               무기ㆍ총포탄과 이들의 부분품과 부속품  93.0   20,316.2   \n",
      "480  2022  가구, 침구ㆍ매트리스ㆍ매트리스 서포트(mattress support)ㆍ쿠션과 이와 ...  94.0  173,519.8   \n",
      "481  2022                         완구ㆍ게임용구ㆍ운동용구와 이들의 부분품과 부속품  95.0   24,589.5   \n",
      "482  2022                                                 잡품  96.0   31,377.8   \n",
      "483  2022                                        예술품ㆍ수집품ㆍ골동품  97.0      194.4   \n",
      "\n",
      "            수입중량       수출금액       수입금액        무역수지  \n",
      "0        1,362.8      3,188     73,643     -70,455  \n",
      "1    1,220,751.0     38,226  5,123,574  -5,085,348  \n",
      "2    1,344,280.3  1,481,657  5,045,539  -3,563,882  \n",
      "3      275,193.1     54,342    932,004    -877,662  \n",
      "4       59,282.8     87,459    304,607    -217,148  \n",
      "..           ...        ...        ...         ...  \n",
      "479      1,232.1  1,290,479    152,485   1,137,994  \n",
      "480    788,165.4  1,391,227  3,953,532  -2,562,305  \n",
      "481    199,833.0    551,628  3,097,641  -2,546,013  \n",
      "482    109,544.2    512,519  1,031,415    -518,896  \n",
      "483      1,260.3    277,020    811,387    -534,367  \n",
      "\n",
      "[484 rows x 8 columns]\n"
     ]
    }
   ],
   "source": [
    "# 불필요한 행 삭제 및 인덱스 초기화\n",
    "df = df.drop([0, 485])\n",
    "df2 = df.reset_index(drop = True)\n",
    "print(df2)"
   ]
  },
  {
   "cell_type": "code",
   "execution_count": 5,
   "id": "72389c32-d41e-4ddf-a6d4-1ca84fb14774",
   "metadata": {},
   "outputs": [
    {
     "name": "stdout",
     "output_type": "stream",
     "text": [
      "<class 'pandas.core.frame.DataFrame'>\n",
      "RangeIndex: 484 entries, 1 to 484\n",
      "Data columns (total 8 columns):\n",
      " #   Column  Non-Null Count  Dtype  \n",
      "---  ------  --------------  -----  \n",
      " 0   기간      484 non-null    object \n",
      " 1   품목명     484 non-null    object \n",
      " 2   품목코드    484 non-null    float64\n",
      " 3   수출중량    484 non-null    object \n",
      " 4   수입중량    484 non-null    object \n",
      " 5   수출금액    484 non-null    object \n",
      " 6   수입금액    484 non-null    object \n",
      " 7   무역수지    484 non-null    object \n",
      "dtypes: float64(1), object(7)\n",
      "memory usage: 30.4+ KB\n"
     ]
    }
   ],
   "source": [
    "df.info()"
   ]
  },
  {
   "cell_type": "code",
   "execution_count": 6,
   "id": "b4770a15-1d57-4d85-8fee-7ebc768374c9",
   "metadata": {},
   "outputs": [
    {
     "name": "stdout",
     "output_type": "stream",
     "text": [
      "     기간                                        품목명  품목코드      수출중량       수입중량  \\\n",
      "1  2018                                   살아 있는 동물   1.0      52.8     1362.8   \n",
      "2  2018                               육과 식용 설육(屑肉)   2.0   32982.9  1220751.0   \n",
      "3  2018             어류ㆍ갑각류ㆍ연체동물과 그 밖의 수생(水生) 무척추동물   3.0  443775.5  1344280.3   \n",
      "4  2018  낙농품, 새의 알, 천연꿀, 다른 류로 분류되지 않은 식용인 동물성 생산품   4.0   25791.3   275193.1   \n",
      "5  2018                      다른 류로 분류되지 않은 동물성 생산품   5.0   33459.1    59282.8   \n",
      "\n",
      "      수출금액     수입금액      무역수지  \n",
      "1     3188    73643    -70455  \n",
      "2    38226  5123574  -5085348  \n",
      "3  1481657  5045539  -3563882  \n",
      "4    54342   932004   -877662  \n",
      "5    87459   304607   -217148  \n"
     ]
    }
   ],
   "source": [
    "# i) 컬럼 데이터 타입 변경 (',.-'등이 있으면 정수로 변경할 수 없음) : 데이터프레임 객체 \n",
    "\n",
    "df[df.columns[3:]] = df[df.columns[3:]].replace(',','',regex=True) # 이거 자체는 데이터프레임 객체라서 str함수는 못 씀\n",
    "print(df.head())\n",
    "# 여기서 astype 또 해줘야 돼서 ii)쓰는 게 나음"
   ]
  },
  {
   "cell_type": "code",
   "execution_count": 7,
   "id": "14d3fdf7-7d79-4706-9875-b7cdf3f14761",
   "metadata": {},
   "outputs": [],
   "source": [
    "# ii) 컬럼 데이터 타입 변경 (',.-'등이 있으면 정수로 변경할 수 없음) : 시리즈 객체\n",
    "\n",
    "for col in df.columns[3:]:\n",
    "    df[col] = df[col].str.replace(',','').astype(float)"
   ]
  },
  {
   "cell_type": "code",
   "execution_count": 8,
   "id": "6c8ccefb-fa49-4169-a3c5-689b389bf4d6",
   "metadata": {
    "scrolled": true
   },
   "outputs": [
    {
     "data": {
      "text/plain": [
       "기간\n",
       "2018    97\n",
       "2019    97\n",
       "2020    97\n",
       "2021    97\n",
       "2022    96\n",
       "Name: count, dtype: int64"
      ]
     },
     "execution_count": 8,
     "metadata": {},
     "output_type": "execute_result"
    }
   ],
   "source": [
    "# 기간별 데이터 수 확인\n",
    "df['기간'].value_counts()"
   ]
  },
  {
   "cell_type": "code",
   "execution_count": 89,
   "id": "3440904c-d0d3-4a8f-bef7-36562b14018e",
   "metadata": {
    "scrolled": true
   },
   "outputs": [
    {
     "name": "stdout",
     "output_type": "stream",
     "text": [
      "            무역수지               \n",
      "             sum           mean\n",
      "기간                             \n",
      "2018  69226716.0  713677.484536\n",
      "2019  38636200.0  398311.340206\n",
      "2020  44609271.0  459889.391753\n",
      "2021  28934079.0  298289.474227\n",
      "2022 -48031096.0 -500323.916667\n"
     ]
    }
   ],
   "source": [
    "# 연도별 무역수지 평균 및 합계\n",
    "grouped = df.groupby('기간')[['무역수지']].agg(['sum','mean'])\n",
    "print(grouped)"
   ]
  },
  {
   "cell_type": "code",
   "execution_count": 92,
   "id": "f0c2229b-9502-49d7-bd0c-a748c2942ef4",
   "metadata": {},
   "outputs": [
    {
     "name": "stdout",
     "output_type": "stream",
     "text": [
      "             평균 무역수지       총 무역수지\n",
      "기간                               \n",
      "2018   69,226,716.00   713,677.48\n",
      "2019   38,636,200.00   398,311.34\n",
      "2020   44,609,271.00   459,889.39\n",
      "2021   28,934,079.00   298,289.47\n",
      "2022  -48,031,096.00  -500,323.92\n"
     ]
    }
   ],
   "source": [
    "grouped.columns = ['평균 무역수지', '총 무역수지']\n",
    "for col in ['평균 무역수지','총 무역수지']:\n",
    "    grouped[col] = grouped[col].apply(lambda x:f'{x:,.2f}')\n",
    "print(grouped)"
   ]
  },
  {
   "cell_type": "code",
   "execution_count": 96,
   "id": "7b1a99d3-24e4-4a10-bc81-e155b35d6c1f",
   "metadata": {},
   "outputs": [
    {
     "name": "stdout",
     "output_type": "stream",
     "text": [
      "연도: 2018\n",
      "                                           품목명        무역수지\n",
      "27  광물성 연료ㆍ광물유(鑛物油)와 이들의 증류물, 역청(瀝靑)물질, 광물성 왁스 -98964778.0\n",
      "--------------------------------------------------------------------------------\n",
      "연도: 2019\n",
      "                                            품목명        무역수지\n",
      "124  광물성 연료ㆍ광물유(鑛物油)와 이들의 증류물, 역청(瀝靑)물질, 광물성 왁스 -85162279.0\n",
      "--------------------------------------------------------------------------------\n",
      "연도: 2020\n",
      "                                            품목명        무역수지\n",
      "221  광물성 연료ㆍ광물유(鑛物油)와 이들의 증류물, 역청(瀝靑)물질, 광물성 왁스 -61119425.0\n",
      "--------------------------------------------------------------------------------\n",
      "연도: 2021\n",
      "                                            품목명        무역수지\n",
      "318  광물성 연료ㆍ광물유(鑛物油)와 이들의 증류물, 역청(瀝靑)물질, 광물성 왁스 -97560443.0\n",
      "--------------------------------------------------------------------------------\n",
      "연도: 2022\n",
      "                                            품목명         무역수지\n",
      "415  광물성 연료ㆍ광물유(鑛物油)와 이들의 증류물, 역청(瀝靑)물질, 광물성 왁스 -153720416.0\n",
      "--------------------------------------------------------------------------------\n"
     ]
    }
   ],
   "source": [
    "# 연도별 무역수지가 가장 적은 품목은?\n",
    "grouped = df.groupby('기간')[['품목명','무역수지']]\n",
    "for year, group in grouped:\n",
    "    print('연도:', year)\n",
    "    print(group.sort_values('무역수지').head(1))\n",
    "    print('-'*80)"
   ]
  }
 ],
 "metadata": {
  "kernelspec": {
   "display_name": "Python 3 (ipykernel)",
   "language": "python",
   "name": "python3"
  },
  "language_info": {
   "codemirror_mode": {
    "name": "ipython",
    "version": 3
   },
   "file_extension": ".py",
   "mimetype": "text/x-python",
   "name": "python",
   "nbconvert_exporter": "python",
   "pygments_lexer": "ipython3",
   "version": "3.11.7"
  },
  "toc": {
   "base_numbering": 1,
   "nav_menu": {},
   "number_sections": true,
   "sideBar": true,
   "skip_h1_title": false,
   "title_cell": "Table of Contents",
   "title_sidebar": "Contents",
   "toc_cell": false,
   "toc_position": {
    "height": "calc(100% - 180px)",
    "left": "10px",
    "top": "150px",
    "width": "384px"
   },
   "toc_section_display": true,
   "toc_window_display": false
  }
 },
 "nbformat": 4,
 "nbformat_minor": 5
}
